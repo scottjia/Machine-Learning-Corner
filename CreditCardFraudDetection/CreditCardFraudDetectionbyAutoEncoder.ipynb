{
 "cells": [
  {
   "cell_type": "code",
   "execution_count": 1,
   "metadata": {},
   "outputs": [],
   "source": [
    "import pandas as pd\n",
    "import numpy as np\n",
    "import tensorflow as tf\n",
    "import os\n",
    "from datetime import datetime \n",
    "from sklearn.metrics import roc_auc_score as auc \n",
    "import seaborn as sns"
   ]
  },
  {
   "cell_type": "code",
   "execution_count": 2,
   "metadata": {},
   "outputs": [],
   "source": [
    "import matplotlib.pyplot as plt\n",
    "import matplotlib.gridspec as gridspec\n",
    "%matplotlib inline"
   ]
  },
  {
   "cell_type": "code",
   "execution_count": 3,
   "metadata": {},
   "outputs": [],
   "source": [
    "df = pd.read_csv('creditcard.csv')"
   ]
  },
  {
   "cell_type": "code",
   "execution_count": 4,
   "metadata": {},
   "outputs": [
    {
     "data": {
      "text/plain": [
       "(284807, 31)"
      ]
     },
     "execution_count": 4,
     "metadata": {},
     "output_type": "execute_result"
    }
   ],
   "source": [
    "df.shape"
   ]
  },
  {
   "cell_type": "code",
   "execution_count": 5,
   "metadata": {},
   "outputs": [
    {
     "name": "stdout",
     "output_type": "stream",
     "text": [
      "Total time spanning: 2.0 days\n",
      "0.173 % of all transactions are fraud. \n"
     ]
    }
   ],
   "source": [
    "print(\"Total time spanning: {:.1f} days\".format(df['Time'].max() / (3600 * 24.0)))\n",
    "print(\"{:.3f} % of all transactions are fraud. \".format(np.sum(df['Class']) / df.shape[0] * 100))"
   ]
  },
  {
   "cell_type": "code",
   "execution_count": 6,
   "metadata": {},
   "outputs": [
    {
     "data": {
      "text/html": [
       "<div>\n",
       "<style scoped>\n",
       "    .dataframe tbody tr th:only-of-type {\n",
       "        vertical-align: middle;\n",
       "    }\n",
       "\n",
       "    .dataframe tbody tr th {\n",
       "        vertical-align: top;\n",
       "    }\n",
       "\n",
       "    .dataframe thead th {\n",
       "        text-align: right;\n",
       "    }\n",
       "</style>\n",
       "<table border=\"1\" class=\"dataframe\">\n",
       "  <thead>\n",
       "    <tr style=\"text-align: right;\">\n",
       "      <th></th>\n",
       "      <th>Time</th>\n",
       "      <th>V1</th>\n",
       "      <th>V2</th>\n",
       "      <th>V3</th>\n",
       "      <th>V4</th>\n",
       "      <th>V5</th>\n",
       "      <th>V6</th>\n",
       "      <th>V7</th>\n",
       "      <th>V8</th>\n",
       "      <th>V9</th>\n",
       "      <th>...</th>\n",
       "      <th>V21</th>\n",
       "      <th>V22</th>\n",
       "      <th>V23</th>\n",
       "      <th>V24</th>\n",
       "      <th>V25</th>\n",
       "      <th>V26</th>\n",
       "      <th>V27</th>\n",
       "      <th>V28</th>\n",
       "      <th>Amount</th>\n",
       "      <th>Class</th>\n",
       "    </tr>\n",
       "  </thead>\n",
       "  <tbody>\n",
       "    <tr>\n",
       "      <th>0</th>\n",
       "      <td>0.0</td>\n",
       "      <td>-1.359807</td>\n",
       "      <td>-0.072781</td>\n",
       "      <td>2.536347</td>\n",
       "      <td>1.378155</td>\n",
       "      <td>-0.338321</td>\n",
       "      <td>0.462388</td>\n",
       "      <td>0.239599</td>\n",
       "      <td>0.098698</td>\n",
       "      <td>0.363787</td>\n",
       "      <td>...</td>\n",
       "      <td>-0.018307</td>\n",
       "      <td>0.277838</td>\n",
       "      <td>-0.110474</td>\n",
       "      <td>0.066928</td>\n",
       "      <td>0.128539</td>\n",
       "      <td>-0.189115</td>\n",
       "      <td>0.133558</td>\n",
       "      <td>-0.021053</td>\n",
       "      <td>149.62</td>\n",
       "      <td>0</td>\n",
       "    </tr>\n",
       "    <tr>\n",
       "      <th>1</th>\n",
       "      <td>0.0</td>\n",
       "      <td>1.191857</td>\n",
       "      <td>0.266151</td>\n",
       "      <td>0.166480</td>\n",
       "      <td>0.448154</td>\n",
       "      <td>0.060018</td>\n",
       "      <td>-0.082361</td>\n",
       "      <td>-0.078803</td>\n",
       "      <td>0.085102</td>\n",
       "      <td>-0.255425</td>\n",
       "      <td>...</td>\n",
       "      <td>-0.225775</td>\n",
       "      <td>-0.638672</td>\n",
       "      <td>0.101288</td>\n",
       "      <td>-0.339846</td>\n",
       "      <td>0.167170</td>\n",
       "      <td>0.125895</td>\n",
       "      <td>-0.008983</td>\n",
       "      <td>0.014724</td>\n",
       "      <td>2.69</td>\n",
       "      <td>0</td>\n",
       "    </tr>\n",
       "    <tr>\n",
       "      <th>2</th>\n",
       "      <td>1.0</td>\n",
       "      <td>-1.358354</td>\n",
       "      <td>-1.340163</td>\n",
       "      <td>1.773209</td>\n",
       "      <td>0.379780</td>\n",
       "      <td>-0.503198</td>\n",
       "      <td>1.800499</td>\n",
       "      <td>0.791461</td>\n",
       "      <td>0.247676</td>\n",
       "      <td>-1.514654</td>\n",
       "      <td>...</td>\n",
       "      <td>0.247998</td>\n",
       "      <td>0.771679</td>\n",
       "      <td>0.909412</td>\n",
       "      <td>-0.689281</td>\n",
       "      <td>-0.327642</td>\n",
       "      <td>-0.139097</td>\n",
       "      <td>-0.055353</td>\n",
       "      <td>-0.059752</td>\n",
       "      <td>378.66</td>\n",
       "      <td>0</td>\n",
       "    </tr>\n",
       "    <tr>\n",
       "      <th>3</th>\n",
       "      <td>1.0</td>\n",
       "      <td>-0.966272</td>\n",
       "      <td>-0.185226</td>\n",
       "      <td>1.792993</td>\n",
       "      <td>-0.863291</td>\n",
       "      <td>-0.010309</td>\n",
       "      <td>1.247203</td>\n",
       "      <td>0.237609</td>\n",
       "      <td>0.377436</td>\n",
       "      <td>-1.387024</td>\n",
       "      <td>...</td>\n",
       "      <td>-0.108300</td>\n",
       "      <td>0.005274</td>\n",
       "      <td>-0.190321</td>\n",
       "      <td>-1.175575</td>\n",
       "      <td>0.647376</td>\n",
       "      <td>-0.221929</td>\n",
       "      <td>0.062723</td>\n",
       "      <td>0.061458</td>\n",
       "      <td>123.50</td>\n",
       "      <td>0</td>\n",
       "    </tr>\n",
       "    <tr>\n",
       "      <th>4</th>\n",
       "      <td>2.0</td>\n",
       "      <td>-1.158233</td>\n",
       "      <td>0.877737</td>\n",
       "      <td>1.548718</td>\n",
       "      <td>0.403034</td>\n",
       "      <td>-0.407193</td>\n",
       "      <td>0.095921</td>\n",
       "      <td>0.592941</td>\n",
       "      <td>-0.270533</td>\n",
       "      <td>0.817739</td>\n",
       "      <td>...</td>\n",
       "      <td>-0.009431</td>\n",
       "      <td>0.798278</td>\n",
       "      <td>-0.137458</td>\n",
       "      <td>0.141267</td>\n",
       "      <td>-0.206010</td>\n",
       "      <td>0.502292</td>\n",
       "      <td>0.219422</td>\n",
       "      <td>0.215153</td>\n",
       "      <td>69.99</td>\n",
       "      <td>0</td>\n",
       "    </tr>\n",
       "  </tbody>\n",
       "</table>\n",
       "<p>5 rows × 31 columns</p>\n",
       "</div>"
      ],
      "text/plain": [
       "   Time        V1        V2        V3        V4        V5        V6        V7  \\\n",
       "0   0.0 -1.359807 -0.072781  2.536347  1.378155 -0.338321  0.462388  0.239599   \n",
       "1   0.0  1.191857  0.266151  0.166480  0.448154  0.060018 -0.082361 -0.078803   \n",
       "2   1.0 -1.358354 -1.340163  1.773209  0.379780 -0.503198  1.800499  0.791461   \n",
       "3   1.0 -0.966272 -0.185226  1.792993 -0.863291 -0.010309  1.247203  0.237609   \n",
       "4   2.0 -1.158233  0.877737  1.548718  0.403034 -0.407193  0.095921  0.592941   \n",
       "\n",
       "         V8        V9  ...         V21       V22       V23       V24  \\\n",
       "0  0.098698  0.363787  ...   -0.018307  0.277838 -0.110474  0.066928   \n",
       "1  0.085102 -0.255425  ...   -0.225775 -0.638672  0.101288 -0.339846   \n",
       "2  0.247676 -1.514654  ...    0.247998  0.771679  0.909412 -0.689281   \n",
       "3  0.377436 -1.387024  ...   -0.108300  0.005274 -0.190321 -1.175575   \n",
       "4 -0.270533  0.817739  ...   -0.009431  0.798278 -0.137458  0.141267   \n",
       "\n",
       "        V25       V26       V27       V28  Amount  Class  \n",
       "0  0.128539 -0.189115  0.133558 -0.021053  149.62      0  \n",
       "1  0.167170  0.125895 -0.008983  0.014724    2.69      0  \n",
       "2 -0.327642 -0.139097 -0.055353 -0.059752  378.66      0  \n",
       "3  0.647376 -0.221929  0.062723  0.061458  123.50      0  \n",
       "4 -0.206010  0.502292  0.219422  0.215153   69.99      0  \n",
       "\n",
       "[5 rows x 31 columns]"
      ]
     },
     "execution_count": 6,
     "metadata": {},
     "output_type": "execute_result"
    }
   ],
   "source": [
    "df.head()"
   ]
  },
  {
   "cell_type": "code",
   "execution_count": 7,
   "metadata": {},
   "outputs": [
    {
     "data": {
      "text/plain": [
       "Index(['Time', 'V1', 'V2', 'V3', 'V4', 'V5', 'V6', 'V7', 'V8', 'V9', 'V10',\n",
       "       'V11', 'V12', 'V13', 'V14', 'V15', 'V16', 'V17', 'V18', 'V19', 'V20',\n",
       "       'V21', 'V22', 'V23', 'V24', 'V25', 'V26', 'V27', 'V28', 'Amount',\n",
       "       'Class'],\n",
       "      dtype='object')"
      ]
     },
     "execution_count": 7,
     "metadata": {},
     "output_type": "execute_result"
    }
   ],
   "source": [
    "df.columns"
   ]
  },
  {
   "cell_type": "code",
   "execution_count": 10,
   "metadata": {},
   "outputs": [
    {
     "data": {
      "text/plain": [
       "Time      float64\n",
       "V1        float64\n",
       "V2        float64\n",
       "V3        float64\n",
       "V4        float64\n",
       "V5        float64\n",
       "V6        float64\n",
       "V7        float64\n",
       "V8        float64\n",
       "V9        float64\n",
       "V10       float64\n",
       "V11       float64\n",
       "V12       float64\n",
       "V13       float64\n",
       "V14       float64\n",
       "V15       float64\n",
       "V16       float64\n",
       "V17       float64\n",
       "V18       float64\n",
       "V19       float64\n",
       "V20       float64\n",
       "V21       float64\n",
       "V22       float64\n",
       "V23       float64\n",
       "V24       float64\n",
       "V25       float64\n",
       "V26       float64\n",
       "V27       float64\n",
       "V28       float64\n",
       "Amount    float64\n",
       "Class       int64\n",
       "dtype: object"
      ]
     },
     "execution_count": 10,
     "metadata": {},
     "output_type": "execute_result"
    }
   ],
   "source": [
    "df.dtypes"
   ]
  },
  {
   "cell_type": "code",
   "execution_count": 21,
   "metadata": {},
   "outputs": [
    {
     "data": {
      "image/png": "[encoded data removed]",
      "text/plain": [
       "<matplotlib.figure.Figure at 0x7fd4d9219e10>"
      ]
     },
     "metadata": {},
     "output_type": "display_data"
    }
   ],
   "source": [
    "plt.figure(figsize=(12,5*4))\n",
    "gs = gridspec.GridSpec(5,1)\n",
    "#print(gs[1])\n",
    "for i, cn in enumerate(df.columns[:5]):\n",
    "    ax = plt.subplot(gs[i])\n",
    "    sns.distplot(df[cn][df.Class == 1], bins=50)\n",
    "    sns.distplot(df[cn][df.Class == 0], bins=50)\n",
    "    ax.set_xlabel('')\n",
    "    ax.set_title('histogram of feature: ' + str(cn))\n",
    "plt.show()"
   ]
  },
  {
   "cell_type": "code",
   "execution_count": 22,
   "metadata": {},
   "outputs": [],
   "source": [
    "TEST_RATIO = 0.25\n",
    "df.sort_values('Time', inplace = True)\n",
    "TRA_INDEX = int((1-TEST_RATIO) * df.shape[0])\n",
    "train_x = df.iloc[:TRA_INDEX, 1:-2].values\n",
    "train_y = df.iloc[:TRA_INDEX, -1].values\n",
    "\n",
    "test_x = df.iloc[TRA_INDEX:, 1:-2].values\n",
    "test_y = df.iloc[TRA_INDEX:, -1].values"
   ]
  },
  {
   "cell_type": "code",
   "execution_count": 23,
   "metadata": {},
   "outputs": [
    {
     "name": "stdout",
     "output_type": "stream",
     "text": [
      "Total train examples: 213605, total fraud cases: 398, equal to 0.00186 of total cases. \n"
     ]
    }
   ],
   "source": [
    "print(\"Total train examples: {}, total fraud cases: {}, equal to {:.5f} of total cases. \".format(train_x.shape[0], np.sum(train_y), np.sum(train_y)/train_x.shape[0]))"
   ]
  },
  {
   "cell_type": "code",
   "execution_count": 24,
   "metadata": {},
   "outputs": [
    {
     "name": "stdout",
     "output_type": "stream",
     "text": [
      "Total test examples: 71202, total fraud cases: 94, equal to 0.00132 of total cases. \n"
     ]
    }
   ],
   "source": [
    "print(\"Total test examples: {}, total fraud cases: {}, equal to {:.5f} of total cases. \".format(test_x.shape[0], np.sum(test_y), np.sum(test_y)/test_y.shape[0]))"
   ]
  },
  {
   "cell_type": "code",
   "execution_count": 25,
   "metadata": {},
   "outputs": [],
   "source": [
    "cols_mean = []\n",
    "cols_std = []\n",
    "for c in range(train_x.shape[1]):\n",
    "    cols_mean.append(train_x[:,c].mean())\n",
    "    cols_std.append(train_x[:,c].std())\n",
    "    train_x[:, c] = (train_x[:, c] - cols_mean[-1]) / cols_std[-1]\n",
    "    test_x[:, c] =  (test_x[:, c] - cols_mean[-1]) / cols_std[-1]"
   ]
  },
  {
   "cell_type": "code",
   "execution_count": 26,
   "metadata": {},
   "outputs": [],
   "source": [
    "# Parameters\n",
    "learning_rate = 0.001\n",
    "training_epochs = 10\n",
    "batch_size = 256\n",
    "display_step = 1\n",
    "\n",
    "# Network Parameters\n",
    "n_hidden_1 = 15 # 1st layer num features\n",
    "#n_hidden_2 = 15 # 2nd layer num features\n",
    "n_input = train_x.shape[1] # MNIST data input (img shape: 28*28)\n",
    "data_dir = '.'"
   ]
  },
  {
   "cell_type": "code",
   "execution_count": 27,
   "metadata": {},
   "outputs": [
    {
     "name": "stdout",
     "output_type": "stream",
     "text": [
      "Epoch: 0001 cost= 1.155256510 Train auc= 0.953156 Time elapsed= 0:00:01.412112\n",
      "Epoch: 0002 cost= 1.282293439 Train auc= 0.954779 Time elapsed= 0:00:02.645318\n",
      "Epoch: 0003 cost= 1.005930185 Train auc= 0.954828 Time elapsed= 0:00:03.859885\n",
      "Epoch: 0004 cost= 0.420305461 Train auc= 0.955908 Time elapsed= 0:00:05.070539\n",
      "Epoch: 0005 cost= 0.448440164 Train auc= 0.956594 Time elapsed= 0:00:06.273771\n",
      "Epoch: 0006 cost= 0.475942850 Train auc= 0.957085 Time elapsed= 0:00:07.578755\n",
      "Epoch: 0007 cost= 0.423600584 Train auc= 0.957216 Time elapsed= 0:00:08.858301\n",
      "Epoch: 0008 cost= 0.493540525 Train auc= 0.956266 Time elapsed= 0:00:10.070104\n",
      "Epoch: 0009 cost= 0.471792370 Train auc= 0.954285 Time elapsed= 0:00:11.284163\n",
      "Epoch: 0010 cost= 0.414333552 Train auc= 0.953746 Time elapsed= 0:00:12.529937\n",
      "Optimization Finished!\n",
      "Model saved in file: ./temp_saved_model_1layer.ckpt\n"
     ]
    }
   ],
   "source": [
    "X = tf.placeholder(\"float\", [None, n_input])\n",
    "\n",
    "weights = {\n",
    "    'encoder_h1': tf.Variable(tf.random_normal([n_input, n_hidden_1])),\n",
    "    #'encoder_h2': tf.Variable(tf.random_normal([n_hidden_1, n_hidden_2])),\n",
    "    'decoder_h1': tf.Variable(tf.random_normal([n_hidden_1, n_input])),\n",
    "    #'decoder_h2': tf.Variable(tf.random_normal([n_hidden_1, n_input])),\n",
    "}\n",
    "biases = {\n",
    "    'encoder_b1': tf.Variable(tf.random_normal([n_hidden_1])),\n",
    "    #'encoder_b2': tf.Variable(tf.random_normal([n_hidden_2])),\n",
    "    'decoder_b1': tf.Variable(tf.random_normal([n_input])),\n",
    "    #'decoder_b2': tf.Variable(tf.random_normal([n_input])),\n",
    "}\n",
    "\n",
    "\n",
    "# Building the encoder\n",
    "def encoder(x):\n",
    "    # Encoder Hidden layer with sigmoid activation #1\n",
    "    layer_1 = tf.nn.tanh(tf.add(tf.matmul(x, weights['encoder_h1']),\n",
    "                                   biases['encoder_b1']))\n",
    "    # Decoder Hidden layer with sigmoid activation #2\n",
    "    #layer_2 = tf.nn.tanh(tf.add(tf.matmul(layer_1, weights['encoder_h2']),\n",
    "                                   #biases['encoder_b2']))\n",
    "    return layer_1\n",
    "\n",
    "\n",
    "# Building the decoder\n",
    "def decoder(x):\n",
    "    # Encoder Hidden layer with sigmoid activation #1\n",
    "    layer_1 = tf.nn.tanh(tf.add(tf.matmul(x, weights['decoder_h1']),\n",
    "                                   biases['decoder_b1']))\n",
    "    # Decoder Hidden layer with sigmoid activation #2\n",
    "    #layer_2 = tf.nn.tanh(tf.add(tf.matmul(layer_1, weights['decoder_h2']),\n",
    "                                  # biases['decoder_b2']))\n",
    "    return layer_1\n",
    "\n",
    "# Construct model\n",
    "encoder_op = encoder(X)\n",
    "decoder_op = decoder(encoder_op)\n",
    "\n",
    "# Prediction\n",
    "y_pred = decoder_op\n",
    "# Targets (Labels) are the input data.\n",
    "y_true = X\n",
    "\n",
    "# Define batch mse\n",
    "batch_mse = tf.reduce_mean(tf.pow(y_true - y_pred, 2), 1)\n",
    "\n",
    "# Define loss and optimizer, minimize the squared error\n",
    "cost = tf.reduce_mean(tf.pow(y_true - y_pred, 2))\n",
    "optimizer = tf.train.RMSPropOptimizer(learning_rate).minimize(cost)\n",
    "\n",
    "# TRAIN StARTS\n",
    "save_model = os.path.join(data_dir, 'temp_saved_model_1layer.ckpt')\n",
    "saver = tf.train.Saver()\n",
    "\n",
    "# Initializing the variables\n",
    "init = tf.global_variables_initializer()\n",
    "\n",
    "with tf.Session() as sess:\n",
    "    now = datetime.now()\n",
    "    sess.run(init)\n",
    "    total_batch = int(train_x.shape[0]/batch_size)\n",
    "    # Training cycle\n",
    "    for epoch in range(training_epochs):\n",
    "        # Loop over all batches\n",
    "        for i in range(total_batch):\n",
    "            batch_idx = np.random.choice(train_x.shape[0], batch_size)\n",
    "            batch_xs = train_x[batch_idx]\n",
    "            # Run optimization op (backprop) and cost op (to get loss value)\n",
    "            _, c = sess.run([optimizer, cost], feed_dict={X: batch_xs})\n",
    "            \n",
    "        # Display logs per epoch step\n",
    "        if epoch % display_step == 0:\n",
    "            train_batch_mse = sess.run(batch_mse, feed_dict={X: train_x})\n",
    "            print(\"Epoch:\", '%04d' % (epoch+1),\n",
    "                  \"cost=\", \"{:.9f}\".format(c), \n",
    "                  \"Train auc=\", \"{:.6f}\".format(auc(train_y, train_batch_mse)), \n",
    "                  \"Time elapsed=\", \"{}\".format(datetime.now() - now))\n",
    "\n",
    "    print(\"Optimization Finished!\")\n",
    "    \n",
    "    save_path = saver.save(sess, save_model)\n",
    "    print(\"Model saved in file: %s\" % save_path)"
   ]
  },
  {
   "cell_type": "code",
   "execution_count": 28,
   "metadata": {},
   "outputs": [
    {
     "name": "stdout",
     "output_type": "stream",
     "text": [
      "INFO:tensorflow:Restoring parameters from ./temp_saved_model_1layer.ckpt\n",
      "Test auc score: 0.940651\n"
     ]
    }
   ],
   "source": [
    "save_model = os.path.join(data_dir, 'temp_saved_model_1layer.ckpt')\n",
    "saver = tf.train.Saver()\n",
    "# Initializing the variables\n",
    "init = tf.global_variables_initializer()\n",
    "with tf.Session() as sess:\n",
    "    now = datetime.now()\n",
    "    saver.restore(sess, save_model)\n",
    "    test_batch_mse = sess.run(batch_mse, feed_dict={X: test_x})\n",
    "    print(\"Test auc score: {:.6f}\".format(auc(test_y, test_batch_mse)))"
   ]
  },
  {
   "cell_type": "code",
   "execution_count": 29,
   "metadata": {},
   "outputs": [
    {
     "data": {
      "image/png": "[encoded data removed]",
      "text/plain": [
       "<matplotlib.figure.Figure at 0x7fd4d769c4e0>"
      ]
     },
     "metadata": {},
     "output_type": "display_data"
    }
   ],
   "source": [
    "plt.hist(test_batch_mse[test_y == 0.0], bins = 100)\n",
    "plt.title(\"fraud score (mse) distribution of non-fraud cases.\")\n",
    "plt.xlabel(\"fraud score (mse)\")\n",
    "plt.show()"
   ]
  },
  {
   "cell_type": "code",
   "execution_count": 30,
   "metadata": {},
   "outputs": [
    {
     "data": {
      "image/png": "[encoded data removed]",
      "text/plain": [
       "<matplotlib.figure.Figure at 0x7fd4d64dd7f0>"
      ]
     },
     "metadata": {},
     "output_type": "display_data"
    }
   ],
   "source": [
    "plt.hist(test_batch_mse[(test_y == 0.0) & (test_batch_mse < 20)], bins = 100)\n",
    "plt.title(\"fraud score (mse) distribution for non-fraud cases.\")\n",
    "plt.xlabel(\"fraud score (mse)\")\n",
    "plt.show()"
   ]
  },
  {
   "cell_type": "code",
   "execution_count": 31,
   "metadata": {},
   "outputs": [
    {
     "data": {
      "image/png": "[encoded data removed]",
      "text/plain": [
       "<matplotlib.figure.Figure at 0x7fd4ca111a58>"
      ]
     },
     "metadata": {},
     "output_type": "display_data"
    }
   ],
   "source": [
    "plt.hist(test_batch_mse[test_y == 1.0], bins = 100)\n",
    "plt.title(\"fraud score (mse) distribution for fraud cases.\")\n",
    "plt.xlabel(\"fraud score (mse)\")\n",
    "plt.show()"
   ]
  },
  {
   "cell_type": "code",
   "execution_count": 32,
   "metadata": {},
   "outputs": [
    {
     "name": "stdout",
     "output_type": "stream",
     "text": [
      "Let's, for example, use 7 as our detection threshold: \n",
      "Number of detected cases above treshold: 507, \n",
      "Number of pos cases only above threshold: 44, \n",
      "The percentage of accuracy above treshold (Precision): 8.68%. \n",
      "Compared to the average percentage of fraud in test set: 0.132%\n"
     ]
    }
   ],
   "source": [
    "THRE_TEST = 7\n",
    "print(\"Let's, for example, use 7 as our detection threshold: \\n\\\n",
    "Number of detected cases above treshold: {}, \\n\\\n",
    "Number of pos cases only above threshold: {}, \\n\\\n",
    "The percentage of accuracy above treshold (Precision): {:0.2f}%. \\n\\\n",
    "Compared to the average percentage of fraud in test set: 0.132%\".format( \\\n",
    "np.sum(test_batch_mse > THRE_TEST), \\\n",
    "np.sum(test_y[test_batch_mse > THRE_TEST]), \\\n",
    "np.sum(test_y[test_batch_mse > THRE_TEST]) / np.sum(test_batch_mse > THRE_TEST) * 100))"
   ]
  },
  {
   "cell_type": "code",
   "execution_count": 33,
   "metadata": {},
   "outputs": [
    {
     "name": "stdout",
     "output_type": "stream",
     "text": [
      "INFO:tensorflow:Restoring parameters from ./temp_saved_model_1layer.ckpt\n",
      "Dim for test_encoding and train_encoding are: \n",
      " (71202, 15) \n",
      " (213605, 15)\n"
     ]
    }
   ],
   "source": [
    "save_model = os.path.join(data_dir, 'temp_saved_model_1layer.ckpt')\n",
    "saver = tf.train.Saver()\n",
    "\n",
    "# Initializing the variables\n",
    "init = tf.global_variables_initializer()\n",
    "\n",
    "with tf.Session() as sess:\n",
    "    now = datetime.now()\n",
    "    saver.restore(sess, save_model)\n",
    "    \n",
    "    test_encoding = sess.run(encoder_op, feed_dict={X: test_x})\n",
    "    train_encoding = sess.run(encoder_op, feed_dict={X: train_x})\n",
    "    \n",
    "    print(\"Dim for test_encoding and train_encoding are: \\n\", test_encoding.shape, '\\n', train_encoding.shape)"
   ]
  },
  {
   "cell_type": "code",
   "execution_count": 34,
   "metadata": {},
   "outputs": [
    {
     "name": "stdout",
     "output_type": "stream",
     "text": [
      "WARNING:tensorflow:From <ipython-input-34-4a998b901c71>:24: softmax_cross_entropy_with_logits (from tensorflow.python.ops.nn_ops) is deprecated and will be removed in a future version.\n",
      "Instructions for updating:\n",
      "\n",
      "Future major versions of TensorFlow will allow gradients to flow\n",
      "into the labels input on backprop by default.\n",
      "\n",
      "See tf.nn.softmax_cross_entropy_with_logits_v2.\n",
      "\n"
     ]
    }
   ],
   "source": [
    "#n_input = test_encoding.shape[1]\n",
    "n_input = test_encoding.shape[1]\n",
    "\n",
    "hidden_size = 4\n",
    "output_size = 2\n",
    "\n",
    "X = tf.placeholder(tf.float32, [None, n_input], name='input_x')\n",
    "y_ = tf.placeholder(tf.int32, shape=[None, output_size], name='target_y')\n",
    "\n",
    "weights = {\n",
    "    'W1': tf.Variable(tf.truncated_normal([n_input, hidden_size])),\n",
    "    'W2': tf.Variable(tf.truncated_normal([hidden_size, output_size])),\n",
    "}\n",
    "biases = {\n",
    "    'b1': tf.Variable(tf.zeros([hidden_size])),\n",
    "    'b2': tf.Variable(tf.zeros([output_size])),\n",
    "}\n",
    "\n",
    "hidden_layer =  tf.nn.relu(tf.add(tf.matmul(X, weights['W1']), biases['b1']))\n",
    "pred_logits = tf.add(tf.matmul(hidden_layer, weights['W2']), biases['b2'])\n",
    "pred_probs = tf.nn.softmax(pred_logits)\n",
    "\n",
    "cross_entropy = tf.reduce_mean(\n",
    "    tf.nn.softmax_cross_entropy_with_logits(labels=y_, logits=pred_logits))\n",
    "\n",
    "optimizer = tf.train.AdamOptimizer(2e-4).minimize(cross_entropy)"
   ]
  },
  {
   "cell_type": "code",
   "execution_count": 35,
   "metadata": {},
   "outputs": [
    {
     "name": "stdout",
     "output_type": "stream",
     "text": [
      "Num of data for train, val and test are: \n",
      "170884, \n",
      "42721, \n",
      "71202\n",
      "Epoch: 0001 cost= 0.024066366 Val auc= 0.253917 Time elapsed= 0:00:00.542211\n",
      "Epoch: 0002 cost= 0.026983483 Val auc= 0.665075 Time elapsed= 0:00:01.035371\n",
      "Epoch: 0003 cost= 0.005298947 Val auc= 0.771724 Time elapsed= 0:00:01.515935\n",
      "Epoch: 0004 cost= 0.003465455 Val auc= 0.799756 Time elapsed= 0:00:01.983730\n",
      "Epoch: 0005 cost= 0.011416983 Val auc= 0.810597 Time elapsed= 0:00:02.616583\n",
      "Epoch: 0006 cost= 0.001120545 Val auc= 0.815985 Time elapsed= 0:00:03.104620\n",
      "Epoch: 0007 cost= 0.005066750 Val auc= 0.824209 Time elapsed= 0:00:03.597163\n",
      "Epoch: 0008 cost= 0.001687403 Val auc= 0.833107 Time elapsed= 0:00:04.088335\n",
      "Epoch: 0009 cost= 0.004583339 Val auc= 0.843488 Time elapsed= 0:00:04.591988\n",
      "Epoch: 0010 cost= 0.000947033 Val auc= 0.855681 Time elapsed= 0:00:05.062725\n",
      "Epoch: 0011 cost= 0.042835645 Val auc= 0.863133 Time elapsed= 0:00:05.519243\n",
      "Epoch: 0012 cost= 0.003882135 Val auc= 0.875361 Time elapsed= 0:00:06.004671\n",
      "Epoch: 0013 cost= 0.003706589 Val auc= 0.890113 Time elapsed= 0:00:06.470463\n",
      "Epoch: 0014 cost= 0.003766221 Val auc= 0.893709 Time elapsed= 0:00:06.941978\n",
      "Epoch: 0015 cost= 0.000615059 Val auc= 0.896684 Time elapsed= 0:00:07.541171\n",
      "Epoch: 0016 cost= 0.045728046 Val auc= 0.902824 Time elapsed= 0:00:08.023667\n",
      "Epoch: 0017 cost= 0.000656215 Val auc= 0.904461 Time elapsed= 0:00:08.500229\n",
      "Epoch: 0018 cost= 0.038739562 Val auc= 0.909079 Time elapsed= 0:00:08.993751\n",
      "Epoch: 0019 cost= 0.003927348 Val auc= 0.913630 Time elapsed= 0:00:09.468386\n",
      "Epoch: 0020 cost= 0.003500003 Val auc= 0.915525 Time elapsed= 0:00:09.931442\n",
      "Epoch: 0021 cost= 0.000784961 Val auc= 0.919195 Time elapsed= 0:00:10.381552\n",
      "Epoch: 0022 cost= 0.000680686 Val auc= 0.919402 Time elapsed= 0:00:10.841249\n",
      "Epoch: 0023 cost= 0.000475118 Val auc= 0.919810 Time elapsed= 0:00:11.323462\n",
      "Epoch: 0024 cost= 0.002478834 Val auc= 0.921675 Time elapsed= 0:00:11.787093\n",
      "Epoch: 0025 cost= 0.000305925 Val auc= 0.922040 Time elapsed= 0:00:12.400261\n",
      "Epoch: 0026 cost= 0.002408648 Val auc= 0.923127 Time elapsed= 0:00:12.879560\n",
      "Epoch: 0027 cost= 0.003129908 Val auc= 0.926592 Time elapsed= 0:00:13.358211\n",
      "Epoch: 0028 cost= 0.000562611 Val auc= 0.927739 Time elapsed= 0:00:13.809272\n",
      "Epoch: 0029 cost= 0.002046337 Val auc= 0.927395 Time elapsed= 0:00:14.275998\n",
      "Epoch: 0030 cost= 0.000317179 Val auc= 0.930568 Time elapsed= 0:00:14.731309\n",
      "Epoch: 0031 cost= 0.004219524 Val auc= 0.931328 Time elapsed= 0:00:15.190865\n",
      "Epoch: 0032 cost= 0.000270623 Val auc= 0.933044 Time elapsed= 0:00:15.644120\n",
      "Epoch: 0033 cost= 0.000344904 Val auc= 0.934883 Time elapsed= 0:00:16.108194\n",
      "Epoch: 0034 cost= 0.000526283 Val auc= 0.935327 Time elapsed= 0:00:16.563081\n",
      "Epoch: 0035 cost= 0.002058131 Val auc= 0.935644 Time elapsed= 0:00:17.025251\n",
      "Epoch: 0036 cost= 0.001827591 Val auc= 0.936311 Time elapsed= 0:00:17.493709\n",
      "Epoch: 0037 cost= 0.002721953 Val auc= 0.936550 Time elapsed= 0:00:18.080466\n",
      "Epoch: 0038 cost= 0.000574609 Val auc= 0.937909 Time elapsed= 0:00:18.551374\n",
      "Epoch: 0039 cost= 0.000467622 Val auc= 0.937916 Time elapsed= 0:00:19.019937\n",
      "Epoch: 0040 cost= 0.002978547 Val auc= 0.938240 Time elapsed= 0:00:19.484145\n",
      "Epoch: 0041 cost= 0.000347071 Val auc= 0.937283 Time elapsed= 0:00:19.935152\n",
      "Epoch: 0042 cost= 0.000576404 Val auc= 0.939289 Time elapsed= 0:00:20.407367\n",
      "Epoch: 0043 cost= 0.003010588 Val auc= 0.938511 Time elapsed= 0:00:20.859489\n",
      "Epoch: 0044 cost= 0.000273920 Val auc= 0.939702 Time elapsed= 0:00:21.320130\n",
      "Epoch: 0045 cost= 0.000347966 Val auc= 0.939023 Time elapsed= 0:00:21.776446\n",
      "Epoch: 0046 cost= 0.001643457 Val auc= 0.939183 Time elapsed= 0:00:22.236482\n",
      "Epoch: 0047 cost= 0.001738753 Val auc= 0.940451 Time elapsed= 0:00:22.786396\n",
      "Epoch: 0048 cost= 0.002617289 Val auc= 0.939992 Time elapsed= 0:00:23.299710\n",
      "Epoch: 0049 cost= 0.001571456 Val auc= 0.939922 Time elapsed= 0:00:23.762945\n",
      "Epoch: 0050 cost= 0.002641503 Val auc= 0.939739 Time elapsed= 0:00:24.228215\n",
      "Epoch: 0051 cost= 0.000385043 Val auc= 0.940037 Time elapsed= 0:00:24.675744\n",
      "Epoch: 0052 cost= 0.006025819 Val auc= 0.939676 Time elapsed= 0:00:25.163932\n",
      "Epoch: 0053 cost= 0.000423465 Val auc= 0.940735 Time elapsed= 0:00:25.621338\n",
      "Epoch: 0054 cost= 0.001537011 Val auc= 0.940546 Time elapsed= 0:00:26.083584\n",
      "Epoch: 0055 cost= 0.000310346 Val auc= 0.940394 Time elapsed= 0:00:26.550189\n",
      "Epoch: 0056 cost= 0.000628422 Val auc= 0.939774 Time elapsed= 0:00:27.011334\n",
      "Epoch: 0057 cost= 0.000389341 Val auc= 0.939022 Time elapsed= 0:00:27.477184\n",
      "Epoch: 0058 cost= 0.000353066 Val auc= 0.940210 Time elapsed= 0:00:27.951689\n",
      "Epoch: 0059 cost= 0.000264614 Val auc= 0.940230 Time elapsed= 0:00:28.455081\n",
      "Epoch: 0060 cost= 0.000296564 Val auc= 0.940040 Time elapsed= 0:00:29.079226\n",
      "Epoch: 0061 cost= 0.001653580 Val auc= 0.940252 Time elapsed= 0:00:29.541447\n",
      "Epoch: 0062 cost= 0.000327820 Val auc= 0.940344 Time elapsed= 0:00:29.997080\n",
      "Epoch: 0063 cost= 0.002288939 Val auc= 0.939618 Time elapsed= 0:00:30.455691\n",
      "Epoch: 0064 cost= 0.019039799 Val auc= 0.938953 Time elapsed= 0:00:30.911627\n",
      "Epoch: 0065 cost= 0.001511925 Val auc= 0.938793 Time elapsed= 0:00:31.378347\n",
      "Epoch: 0066 cost= 0.023307052 Val auc= 0.939519 Time elapsed= 0:00:31.837331\n",
      "Epoch: 0067 cost= 0.000371112 Val auc= 0.940293 Time elapsed= 0:00:32.311078\n",
      "Epoch: 0068 cost= 0.000414012 Val auc= 0.940784 Time elapsed= 0:00:32.865208\n",
      "Epoch: 0069 cost= 0.002194444 Val auc= 0.941030 Time elapsed= 0:00:33.355006\n",
      "Epoch: 0070 cost= 0.000321994 Val auc= 0.940111 Time elapsed= 0:00:33.847381\n",
      "Epoch: 0071 cost= 0.000731235 Val auc= 0.939742 Time elapsed= 0:00:34.439376\n",
      "Epoch: 0072 cost= 0.000294558 Val auc= 0.938437 Time elapsed= 0:00:35.066952\n",
      "Epoch: 0073 cost= 0.000441101 Val auc= 0.937647 Time elapsed= 0:00:35.595261\n",
      "Epoch: 0074 cost= 0.000428713 Val auc= 0.937798 Time elapsed= 0:00:36.223136\n",
      "Epoch: 0075 cost= 0.001270031 Val auc= 0.937731 Time elapsed= 0:00:36.812248\n",
      "Epoch: 0076 cost= 0.000355943 Val auc= 0.938555 Time elapsed= 0:00:37.345923\n",
      "Epoch: 0077 cost= 0.000541787 Val auc= 0.938077 Time elapsed= 0:00:37.907465\n",
      "Epoch: 0078 cost= 0.001351956 Val auc= 0.937921 Time elapsed= 0:00:38.378198\n",
      "Epoch: 0079 cost= 0.000301669 Val auc= 0.939243 Time elapsed= 0:00:38.836909\n",
      "Epoch: 0080 cost= 0.000416530 Val auc= 0.939265 Time elapsed= 0:00:39.299411\n",
      "Optimization Finished!\n",
      "Model saved in file: ./temp_saved_model_FCLayers.ckpt\n"
     ]
    }
   ],
   "source": [
    "n_epochs = 80\n",
    "batch_size = 256\n",
    "\n",
    "# PREPARE DATA\n",
    "VAL_PERC = 0.2\n",
    "all_y_bin = np.zeros((df.shape[0], 2))\n",
    "all_y_bin[range(df.shape[0]), df['Class'].values] = 1\n",
    "\n",
    "train_enc_x = train_encoding[:int(train_encoding.shape[0] * (1-VAL_PERC))]\n",
    "train_enc_y = all_y_bin[:int(train_encoding.shape[0] * (1-VAL_PERC))]\n",
    "\n",
    "val_enc_x = train_encoding[int(train_encoding.shape[0] * (1-VAL_PERC)):]\n",
    "val_enc_y = all_y_bin[int(train_encoding.shape[0] * (1-VAL_PERC)):train_encoding.shape[0]]\n",
    "\n",
    "test_enc_y = all_y_bin[train_encoding.shape[0]:]\n",
    "print(\"Num of data for train, val and test are: \\n{}, \\n{}, \\n{}\".format(train_enc_x.shape[0], val_enc_x.shape[0], \\\n",
    "                                                                        test_encoding.shape[0]))\n",
    "\n",
    "# TRAIN STARTS\n",
    "save_model = os.path.join(data_dir, 'temp_saved_model_FCLayers.ckpt')\n",
    "saver = tf.train.Saver()\n",
    "\n",
    "# Initializing the variables\n",
    "init = tf.global_variables_initializer()\n",
    "\n",
    "with tf.Session() as sess:\n",
    "    now = datetime.now()\n",
    "    sess.run(init)\n",
    "    total_batch = int(train_enc_x.shape[0]/batch_size)\n",
    "    # Training cycle\n",
    "    for epoch in range(n_epochs):\n",
    "        # Loop over all batches\n",
    "        for i in range(total_batch):\n",
    "            batch_idx = np.random.choice(train_enc_x.shape[0], batch_size)\n",
    "            batch_xs = train_enc_x[batch_idx]\n",
    "            batch_ys = train_enc_y[batch_idx]\n",
    "\n",
    "            # Run optimization op (backprop) and cost op (to get loss value)\n",
    "            _, c = sess.run([optimizer, cross_entropy], feed_dict={X: batch_xs, y_: batch_ys})\n",
    "            \n",
    "        # Display logs per epoch step\n",
    "        if epoch % display_step == 0:\n",
    "            val_probs = sess.run(pred_probs, feed_dict={X: val_enc_x})\n",
    "            print(\"Epoch:\", '%04d' % (epoch+1),\n",
    "                  \"cost=\", \"{:.9f}\".format(c), \n",
    "                  \"Val auc=\", \"{:.6f}\".format(auc(val_enc_y[:, 1], val_probs[:, 1])), \n",
    "                  \"Time elapsed=\", \"{}\".format(datetime.now() - now))\n",
    "\n",
    "    print(\"Optimization Finished!\")\n",
    "    \n",
    "    save_path = saver.save(sess, save_model)\n",
    "    print(\"Model saved in file: %s\" % save_path)"
   ]
  },
  {
   "cell_type": "code",
   "execution_count": 36,
   "metadata": {},
   "outputs": [
    {
     "name": "stdout",
     "output_type": "stream",
     "text": [
      "INFO:tensorflow:Restoring parameters from ./temp_saved_model_FCLayers.ckpt\n",
      "\n",
      "Test auc score: 0.9480649153400461\n"
     ]
    }
   ],
   "source": [
    "save_model = os.path.join(data_dir, 'temp_saved_model_FCLayers.ckpt')\n",
    "saver = tf.train.Saver()\n",
    "# Initializing the variables\n",
    "init = tf.global_variables_initializer()\n",
    "\n",
    "with tf.Session() as sess:\n",
    "    now = datetime.now()\n",
    "    \n",
    "    saver.restore(sess, save_model)\n",
    "    \n",
    "    test_probs = sess.run(pred_probs, feed_dict={X: test_encoding})\n",
    "    \n",
    "    print(\"\\nTest auc score: {}\".format(auc(test_enc_y[:, 1], test_probs[:, 1])))"
   ]
  },
  {
   "cell_type": "code",
   "execution_count": null,
   "metadata": {},
   "outputs": [],
   "source": []
  }
 ],
 "metadata": {
  "kernelspec": {
   "display_name": "Python 3",
   "language": "python",
   "name": "python3"
  },
  "language_info": {
   "codemirror_mode": {
    "name": "ipython",
    "version": 3
   },
   "file_extension": ".py",
   "mimetype": "text/x-python",
   "name": "python",
   "nbconvert_exporter": "python",
   "pygments_lexer": "ipython3",
   "version": "3.6.3"
  }
 },
 "nbformat": 4,
 "nbformat_minor": 2
}
